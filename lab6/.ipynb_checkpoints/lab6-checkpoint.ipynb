{
 "cells": [
  {
   "cell_type": "markdown",
   "metadata": {},
   "source": [
    "# EE 120 Lab 6: Feedback and Control\n",
    "\n",
    "**Signals and Systems** at UC Berkeley\n",
    "\n",
    "Acknowledgements:\n",
    "* **Spring 2019** (v1.0): Jonathan Lee, Akash Velu, Babak Ayazifar\n",
    "* **Fall 2019** (v1.1): Jonathan Lee, Murat Arcak\n",
    "* **Spring 2020** (v2.0): Jonathan Lee, Babak Ayazifar"
   ]
  },
  {
   "cell_type": "markdown",
   "metadata": {},
   "source": [
    "## Introduction\n",
    "\n",
    "Many interesting physical systems use feedback to regulate or stabilize themselves:\n",
    "\n",
    "* Mechatronics: vehicle autopilots, robotic joints\n",
    "* Communication networks: TCP congestion control, [signal synchronization](https://en.wikipedia.org/wiki/Phase-locked_loop)\n",
    "* Biological networks: predator-prey models, gene regulation\n",
    "\n",
    "Feedback is particularly useful for closed-loop control: using sensors to actuate a system in some desired way.\n",
    "Closed-loop control has a number of advantages over open-loop control, which does not use feedback:\n",
    "* Controllers in closed-loop systems are easier to design. We can treat the system we are trying to control (called a plant) as a black box.\n",
    "* Designed well, closed-loop systems tend to be more robust to modeling imperfections, disturbances, and noise.\n",
    "* Feedback loops are often automated by computers, so a closed-loop system&mdash;such as the cruise control of a car&mdash;can compensate for error at a much greater frequency than a human operator can."
   ]
  },
  {
   "cell_type": "markdown",
   "metadata": {},
   "source": [
    "## Background: Laplace Transform\n",
    "\n",
    "The Laplace transform of a continuous-time signal $x(t)$ is:\n",
    "$$X(s) \\triangleq \\int_{-\\infty}^\\infty x(t) e^{-st} \\mathrm{d}t$$\n",
    "We can view the Laplace transform as a generalization from the continuous-time Fourier transform, since the Laplace transform can represent a broader class of signals (in particular, signals with exponential envelopes).\n",
    "For the special case $X(s)|_{s=i\\omega}$, we recover the CTFT of $x(t)$.\n",
    "\n",
    "Like the z-transform, its discrete-time analog, every Laplace transform is associated with a region of convergence (ROC)&mdash;a set of $s \\in \\mathbb{C}$ where the Laplace integral converges.\n",
    "For rational Laplace transforms, the numerator and denominator polynomials can be factored into their roots, zeros and poles.\n",
    "ROCs are bounded by vertical lines on which poles sit, so ROCs take the form of a right-sided half-plane, left-sided half-plane, or vertical strip.\n",
    "\n",
    "## Background: State Space\n",
    "\n",
    "During our study of CT-LTI systems, we saw how systems described by differential equations can be written compactly in a standard state-space form:\n",
    "$$\\begin{align}\n",
    "\\frac{\\mathrm{d} \\mathbf{x}(t)}{\\mathrm{d}t} &= \\mathbf{A} \\mathbf{x}(t) + \\mathbf{B} u(t), \\\\\n",
    "\\mathbf{x}(0) &= \\mathbf{x}_0, \\\\\n",
    "y(t) &= \\mathbf{C} \\mathbf{x}(t) + D u(t),\n",
    "\\end{align}$$\n",
    "where:\n",
    "* $u(\\cdot)$ is a scalar input signal,\n",
    "* $y(\\cdot)$ is a scalar output signal,\n",
    "* $\\mathbf{x}(\\cdot): \\mathbb{R} \\to \\mathbb{R}^n$ are $n$ intermediate states (also known as the system **trajectory**),\n",
    "* $\\mathbf{x}_0 \\in \\mathbb{R}^n$ are the initial conditions, and\n",
    "* $\\mathbf{A}, \\mathbf{B}, \\mathbf{C}, D$ are appropriately sized matrices of constant coefficients.\n",
    "\n",
    "Applying the Laplace transform to each state variable, you can compute the transfer function of the overall system $u(t) \\to y(t)$ after assuming a zero initial condition $\\mathbf{x}_0 = \\mathbf{0}$.\n",
    "$$\\begin{align}\n",
    "s\\mathbf{X}(s) &= \\mathbf{A} \\mathbf{X}(s) + \\mathbf{B} U(s) \\\\\n",
    "Y(s) &= \\mathbf{C} \\mathbf{X}(s) + D U(s) \\\\\n",
    "\\frac{Y(s)}{U(s)} &= \\mathbf{C} (s\\mathbf{I} - A)^{-1} \\mathbf{B} + D\n",
    "\\end{align}$$\n",
    "The beauty of the Laplace transform is that our differential equation has been turned into an algebraic one of polynomials in $s$, which greatly simplifies analysis and design.\n",
    "For example, the poles of $Y(s)/U(s)$ are a subset of the eigenvalues of $\\mathbf{A}$:\n",
    "$$(s\\mathbf{I} - \\mathbf{A})^{-1} = \\frac{\\mathrm{adj}{(s\\mathbf{I} - \\mathbf{A})}}{\\det{(s\\mathbf{I} - \\mathbf{A})}}$$\n",
    "It is easy to check whether $u(t) \\to y(t)$ is BIBO-stable by checking whether the eigenvalues that are poles lie in the open left-half plane."
   ]
  },
  {
   "cell_type": "markdown",
   "metadata": {},
   "source": [
    "## Background: Satellite Stabilization\n",
    "\n",
    "<table style=\"margin: 1em 0\">\n",
    "    <tr>\n",
    "        <td><img src=\"diagrams/orbit.png\" /></td>\n",
    "        <td><img src=\"diagrams/flywheels.png\" /></td>\n",
    "    </tr>\n",
    "</table>\n",
    "<center>Figure 1. Left: Relative orientation of Earth and satellite frames. Right: Flywheel schematic.</center>\n",
    "\n",
    "In this lab, we'll use linear control to stabilize a satellite, as described in [1].\n",
    "For many satellites, it is critical to maintain a certain orientation with respect to the Earth.\n",
    "For example, an imaging satellite might need to keep its camera pointed towards the Earth's surface.\n",
    "Unfortunately, disturbances from the environment, such as solar radiation or the Earth's magnetic field, can exert torques on the satellite that cause undesired rotation.\n",
    "For this reason, some satellites are equipped with flywheels, like those shown in Figure 1 (right), to absorb or release rotational energy and induce a compensating torque.\n",
    "\n",
    "Using the notation in Figure 1 (left), we would like to rotate the satellite about the $Y$-axis such that $\\theta = 0$ and the $Z$ and $Z_0$ axes are parallel (the $Z$ and $Z_0$ axes lie in the plane of the orbit).\n",
    "For simplicity, we'll ignore the orientation of the $X$ and $Y$ axes."
   ]
  },
  {
   "cell_type": "code",
   "execution_count": null,
   "metadata": {},
   "outputs": [],
   "source": [
    "from __future__ import division, print_function, unicode_literals\n",
    "import numpy as np\n",
    "import matplotlib\n",
    "import matplotlib.pyplot as plt\n",
    "from scipy import integrate, signal\n",
    "\n",
    "matplotlib.rc('font', size=20)\n",
    "if 'ggplot' in plt.style.available:\n",
    "    plt.style.use('ggplot')\n",
    "\n",
    "%matplotlib inline"
   ]
  },
  {
   "cell_type": "markdown",
   "metadata": {},
   "source": [
    "## Q1: Simulating the Open-Loop Vehicle Dynamics\n",
    "\n",
    "<center>\n",
    "    <img src=\"diagrams/open-loop.png\" style=\"width: 60%\" />\n",
    "    <center>Open-loop system.</center>\n",
    "</center>\n",
    "\n",
    "From Newton's second law,\n",
    "$$I_y \\ddot{\\theta}(t) = u(t),$$\n",
    "where $I_y > 0$ is the satellite's moment of inertia and $u(t)$ is the net torque, both about the $Y$-axis.\n",
    "Note that this system is a double integrator with a gain.\n",
    "\n",
    "This system can be expressed in standard state-space form\n",
    "\n",
    "$$\\frac{\\mathrm{d}\\mathbf{x}(t)}{\\mathrm{d}t} = \\mathbf{A}_\\mathsf{sat} \\mathbf{x}(t) + \\mathbf{B}_\\mathsf{sat} u(t),\\ \\mathbf{x}(t_0) = \\mathbf{x}_0$$\n",
    "\n",
    "using $x_1 = \\theta, x_2 = \\dot{\\theta}$ as states.\n",
    "Fill in the matrices in the following code block to complete the open-loop model."
   ]
  },
  {
   "cell_type": "code",
   "execution_count": null,
   "metadata": {},
   "outputs": [],
   "source": [
    "I_y = 1.28e4  # Representative value in kg m^2\n",
    "A_sat = None  # *** TODO ***: Your code here. Shape (2, 2).\n",
    "B_sat = None  # *** TODO ***: Your code here. Shape (2,)."
   ]
  },
  {
   "cell_type": "markdown",
   "metadata": {},
   "source": [
    "Next, we'll write a method that will allow us to solve the standard state-space differential equation in general.\n",
    "Use [`scipy.integrate.solve_ivp`](https://docs.scipy.org/doc/scipy/reference/generated/scipy.integrate.solve_ivp.html) with the `t_eval` argument to implement the solver.\n",
    "The default numerical integration method works well enough, so there is no need to use a different method."
   ]
  },
  {
   "cell_type": "code",
   "execution_count": null,
   "metadata": {},
   "outputs": [],
   "source": [
    "def solve_lti(A, B, u, t, x0):\n",
    "    \"\"\"\n",
    "    Solve an LTI state-space equation.\n",
    "    \n",
    "    Arguments:\n",
    "        A (numpy.ndarray): State transition matrix with shape (n, n)\n",
    "        B (numpy.ndarray): Input-to-state map with shape (n,)\n",
    "        u: Two-argument function that accepts the current time and\n",
    "            state of shape (n,), and returns the control input.\n",
    "        t (numpy.ndarray): Times the state should be evaluated at\n",
    "            with shape (T,).\n",
    "        x0 (numpy.ndarray): Initial state with shape (n,).\n",
    "    \n",
    "    Returns:\n",
    "        The state variables over time with shape (n, T).\n",
    "    \"\"\"\n",
    "    # *** TODO ***: Your code here\n",
    "\n",
    "# We solve the scalar differential equation: dx_1/dt = -2x_1,\n",
    "# which is solvable by hand with separation of variables:\n",
    "# x_1(t) = x_1(0) e^{-2t}.\n",
    "print('Running sanity check:')\n",
    "t = np.linspace(0, 10, 100)\n",
    "y = solve_lti(np.array([[-2]]), np.array([0]), lambda t, x: 0, t, np.array([1]))\n",
    "y_ref = np.exp(-2*t)\n",
    "mse = np.mean((y - y_ref)**2)\n",
    "print('Mean squared error is: {:.5f} (should be close to zero)'.format(mse))"
   ]
  },
  {
   "cell_type": "markdown",
   "metadata": {},
   "source": [
    "The next two cells simulate the satellite with a constant disturbance due to constant radiation pressure.\n",
    "1. The first plot depicts $\\theta$ versus $\\dot{\\theta}$ and is called a **phase portrait**. Each curve represents one simulation from a different initial condition. Arrows are placed a uniform amount of time apart so you can estimate the rate of change in each state. For planar systems (systems with exactly two states), phase portraits are often more informative than plotting each state over time individually because you can see how the two states interact.\n",
    "2. The second plot is simply $\\theta$ over time for all trajectories."
   ]
  },
  {
   "cell_type": "code",
   "execution_count": null,
   "metadata": {},
   "outputs": [],
   "source": [
    "def simulate_satellite(A, B, u, t, init_states, width=10, height=15,\n",
    "                       step=50, **quiver_options):\n",
    "    trajectories = np.empty((init_states.shape[0], 2, t.size))\n",
    "    figure, (phase_ax, theta_ax) = plt.subplots(2, 1, figsize=(width, height),\n",
    "                                                gridspec_kw={'height_ratios': [1.5, 1]})\n",
    "    \n",
    "    # Label axes\n",
    "    phase_ax.set_xlabel('Anglular Displacement (rad)')\n",
    "    phase_ax.set_ylabel('Angular Velocity (rad/s)')\n",
    "    theta_ax.set_xlabel('Hours (h)')\n",
    "    theta_ax.set_ylabel('Anglular Displacement (rad)')\n",
    "    \n",
    "    # Compute the trajectory from each initial state\n",
    "    for i, x0 in enumerate(init_states):\n",
    "        trajectories[i] = x = solve_lti(A, B, u, t, x0)\n",
    "        phase_ax.plot(x[0], x[1], color='tab:blue', alpha=0.3)\n",
    "        theta_ax.plot(t/3600, x[0], color='tab:blue', alpha=0.3)\n",
    "    \n",
    "    # Draw uniformly spaced arrows along the trajectory\n",
    "    base = trajectories[:, :, ::step]\n",
    "    direction = trajectories[:, :, 1::step] - base\n",
    "    phase_ax.quiver(base[:, 0], base[:, 1], direction[:, 0], direction[:, 1],\n",
    "                    color='tab:blue', angles='xy', **quiver_options)\n",
    "    \n",
    "    # Draw initial states\n",
    "    phase_ax.scatter(init_states[:, 0], init_states[:, 1], marker='x', label='Initial states')\n",
    "    phase_ax.legend()\n",
    "    \n",
    "    return trajectories, phase_ax, theta_ax"
   ]
  },
  {
   "cell_type": "code",
   "execution_count": null,
   "metadata": {},
   "outputs": [],
   "source": [
    "# Constant torque in Newton-meters due to radiation pressure on a reflective surface.\n",
    "w = lambda t, x: 4.3e-6       \n",
    "\n",
    "# Time scale and initial states\n",
    "t = np.linspace(0, 7*24*60*60, 2000)  # In seconds\n",
    "theta_init = np.linspace(-0.5*np.pi, 0.5*np.pi, 5)\n",
    "theta_dot_init = np.linspace(-1e-4, 1e-4, 7)\n",
    "init_states = np.stack(np.meshgrid(theta_init, theta_dot_init)).reshape(2, -1).T\n",
    "\n",
    "plt.figure(figsize=(10, 6))\n",
    "_, phase_ax, theta_ax = simulate_satellite(A_sat, B_sat, w, t, init_states)\n",
    "phase_ax.set_xlim(-6*np.pi, 6*np.pi)\n",
    "phase_ax.set_ylim(-1.1e-4, 1.5e-4)"
   ]
  },
  {
   "cell_type": "markdown",
   "metadata": {},
   "source": [
    "**Questions:**\n",
    "1. Where are the poles of the transfer function?\n",
    "1. What are the eigenvalues of $\\mathbf{A}_\\mathsf{sat}$?\n",
    "1. From the phase portrait and the pole placement, comment on the stability of the open-loop system. Remember, ideally, we would like trajectories to converge to the origin $(\\theta, \\dot{\\theta}) = (0, 0)$, meaning the desired and actual axes, $Z_0$ and $Z$, are aligned, and the alignment is not changing over time.\n",
    "\n",
    "<span style=\"color: rgb(42, 135, 210)\">\n",
    "    *** TODO ***: Your answer here.\n",
    "</span>"
   ]
  },
  {
   "cell_type": "markdown",
   "metadata": {},
   "source": [
    "## Q2: Closing the Loop\n",
    "\n",
    "Although we simulated the system with a simple constant disturbance, in general, the disturbance is difficult to model and estimate because of the complex dynamics involved.\n",
    "Since it's not practical to cancel the disturbance with subtraction in the open-loop scheme, we try feedback:\n",
    "\n",
    "<span>\n",
    "    <img src=\"diagrams/closed-loop.png\" />\n",
    "    <center>Closed-loop system.</center>\n",
    "</span>\n",
    "\n",
    "Note that the flywheel has its own dynamics: it has its own moment of inertia $I_f > 0$ and angular velocity $\\omega(t)$.\n",
    "\n",
    "The transfer function of $\\theta(t)$ w.r.t. the disturbance $w(t)$ is\n",
    "\n",
    "$$\\Theta(s) = \\frac{1}{I_y s^2} \\left[W(s) - I_f s C(s) \\Theta(s)\\right] \\implies H_{w\\to\\theta}(s) \\triangleq \\frac{\\Theta(s)}{W(s)} = \\frac{1}{I_y s^2 + I_f s C(s)}$$\n",
    "\n",
    "There are many choices for the controller $C(s)$.\n",
    "The scheme we'll use is called proportional-integral-derivative (PID) control, which uses a linear combination of the error signal, integrated error, and error derivative (current, past, and future error) to determine the velocity $\\omega(t)$:\n",
    "$$\\omega(t) = k_p e(t) + k_i \\int_0^t e(t^\\prime) \\mathrm{d}t^\\prime + k_d \\frac{\\mathrm{d}e(t)}{dt},$$\n",
    "where $k_p, k_i, k_d \\geq 0$ are coefficients (in the appropriate units) that determine the relative importance of each term.\n",
    "\n",
    "Proportional (P), proportional-derivative (PD), and proportional-integral (PI) are also common variants where one or more terms is excluded.\n",
    "PID and its variants are quite popular in practical controller implementations because it is simple to approximate differentiation and integration with finite differencing and accumulators."
   ]
  },
  {
   "cell_type": "markdown",
   "metadata": {},
   "source": [
    "### Q2(a): Disturbance Rejection\n",
    "\n",
    "Now, we want to simulate the closed-loop system with different sets of PID coefficients.\n",
    "1. On paper, plug the expression for $C(s) = \\Omega(s)/E(s)$ into $H_{w\\to\\theta}(s)$. The resulting system will still be second-order.\n",
    "2. Recover a differential equation in $\\theta(t), w(t)$ and their derivatives by taking the inverse Laplace transform.\n",
    "3. Choose as states $x_1 = \\theta, x_2 = \\dot{\\theta}$ to implement `make_closed_loop_sys`.\n",
    "4. Finally, run the cell to simulate the closed-loop system and plot its trajectories for some $(k_p, k_i, k_d)$ combinations we've given you. Feel free to add your own coefficients to `k` and experiment."
   ]
  },
  {
   "cell_type": "code",
   "execution_count": null,
   "metadata": {},
   "outputs": [],
   "source": [
    "I_f = 1e-5*I_y  # I_f << I_y\n",
    "\n",
    "def make_closed_loop_sys(k_p, k_i, k_d):\n",
    "    \"\"\"\n",
    "    Compute the state-space matrices for the closed-loop system\n",
    "    under PID control.\n",
    "    \n",
    "    Arguments:\n",
    "        k_p (float): Proportional coefficient.\n",
    "        k_i (float): Integral coefficient.\n",
    "        k_d (float): Derivative coefficient.\n",
    "    \n",
    "    Returns:\n",
    "        A (numpy.ndarray): Shape (2, 2).\n",
    "        B (numpy.ndarray): Shape (2,).\n",
    "    \"\"\"\n",
    "    # *** TODO ***: Your code here"
   ]
  },
  {
   "cell_type": "code",
   "execution_count": null,
   "metadata": {},
   "outputs": [],
   "source": [
    "t = np.linspace(0, 40*60, 2000)  # In seconds\n",
    "theta_init = np.linspace(-0.5*np.pi, 0.5*np.pi, 5)\n",
    "theta_dot_init = np.linspace(-1e-3, 1e-3, 5)\n",
    "init_states = np.stack(np.meshgrid(theta_init, theta_dot_init)).reshape(2, -1).T\n",
    "\n",
    "k = np.array([\n",
    "    [0, 5, 0],\n",
    "    [2000, 5, 0],\n",
    "    [2000, 5, 4e5],\n",
    "])\n",
    "\n",
    "for k_p, k_i, k_d in k:\n",
    "    A, B = make_closed_loop_sys(k_p, k_i, k_d)\n",
    "    plt.figure(figsize=(10, 6))\n",
    "    _, phase_ax, theta_ax = simulate_satellite(A, B, w, t, init_states, scale=0.1, step=200)"
   ]
  },
  {
   "cell_type": "markdown",
   "metadata": {},
   "source": [
    "We'd like to analyze the system $H_{w\\to\\theta}(s)$ in the Laplace domain.\n",
    "First, fill out the cell below to find the poles of $H_{w\\to\\theta}(s)$ for each triplet of coefficients using [`scipy.signal.ss2zpk`](https://docs.scipy.org/doc/scipy/reference/generated/scipy.signal.ss2zpk.html#scipy.signal.ss2zpk)."
   ]
  },
  {
   "cell_type": "code",
   "execution_count": null,
   "metadata": {},
   "outputs": [],
   "source": [
    "C, D = [[1, 0]], [[0]]\n",
    "plt.figure(figsize=(8, 8))\n",
    "for k_p, k_i, k_d in k:\n",
    "    A, B = make_closed_loop_sys(k_p, k_i, k_d)\n",
    "    B = B.reshape((-1, 1))\n",
    "    zeros, poles = np.array([]), np.array([])  # *** TODO ***: Your code here.\n",
    "    assert len(zeros) == 0\n",
    "    print('Closed-loop poles with k_p = {}, k_i = {}, k_d = {}:'.format(k_p, k_i, k_d), poles)\n",
    "    label = r'$k_p = {}, k_i = {}, k_d = {}$'.format(k_p, k_i, k_d)\n",
    "    plt.scatter(poles.real, poles.imag, marker='x', s=100, label=label)\n",
    "plt.legend()"
   ]
  },
  {
   "cell_type": "markdown",
   "metadata": {},
   "source": [
    "For second-order systems, we can express the poles as $s^2 + 2\\zeta \\omega_n s + \\omega_n^2 = 0$, where $\\omega_n$ is the *natural frequency* and $\\zeta$ is the *damping ratio*.\n",
    "These quantities are useful for predicting oscillations in the system's step response:\n",
    "* $\\zeta = 0$ is an undamped system. The step response will oscillate with frequency $\\omega_n$ forever.\n",
    "* $0 < \\zeta < 1$ is an underdamped system. The step response will oscillate, but with an exponentially decaying envelope.\n",
    "* $\\zeta = 1$ is a critically damped system and $\\zeta > 1$ is an overdamped system. In both cases, the step response will not oscillate, but a critically damped system will converge to equilibrium in the minimum amount of time without overshooting.\n",
    "\n",
    "**Questions**:\n",
    "1. Classify each set of coefficients as undamped, underdamped, critically damped, and overdamped by deriving $\\zeta$ for the closed-loop system.\n",
    "1. In general, how does $k_p, k_i, k_d$ each affect the damping ratio for the closed-loop system with PID?\n",
    "1. How does each pole's distance from the imaginary axis affect the error decay rate?\n",
    "\n",
    "<span style=\"color: rgb(42, 135, 210)\">\n",
    "    *** TODO ***: Your answer here.\n",
    "</span>"
   ]
  },
  {
   "cell_type": "markdown",
   "metadata": {},
   "source": [
    "Finally, in the cell below, with $k_p = 2000, k_i = 5$, perform pole placement and choose $k_d$ so that the system is critically damped.\n",
    "Plot the trajectories, and confirm that there are no oscillations."
   ]
  },
  {
   "cell_type": "code",
   "execution_count": null,
   "metadata": {},
   "outputs": [],
   "source": [
    "k_p, k_i = 2000, 5\n",
    "k_d = 0  # *** TODO ***: Your code here.\n",
    "A, B = make_closed_loop_sys(k_p, k_i, k_d)\n",
    "zeros, poles, _ = signal.ss2zpk(A, B.reshape((-1, 1)), C, D)\n",
    "assert np.allclose(np.imag(poles), 0)\n",
    "plt.figure(figsize=(10, 6))\n",
    "_, phase_ax, theta_ax = simulate_satellite(A, B, w, t, init_states, scale=0.1, step=200)"
   ]
  },
  {
   "cell_type": "markdown",
   "metadata": {},
   "source": [
    "### Q2(b): Noise Insensitivity\n",
    "\n",
    "Up to now, we've assumed we can sense the observed sensor angle and its velocity perfectly.\n",
    "However, in reality, all sensors have some noise.\n",
    "\n",
    "<span>\n",
    "    <img src=\"diagrams/closed-loop-noise.png\" />\n",
    "    <center>Closed-loop system with sensor noise.</center>\n",
    "</span>\n",
    "\n",
    "This system has two inputs $(w(t), n(t))$ mapping to one output $\\theta(t)$, as opposed to the single-input single-output (SISO) systems we've focused on in EE 120.\n",
    "Thanks to superposition, we can compute the effect of each input on $\\theta$ separately by zeroing the other input.\n",
    "The transfer function of $n \\to \\theta$ is:\n",
    "\n",
    "$$\\Theta(s) = -\\frac{1}{I_y s^2} I_f s C(s) \\left[\\Theta(s) + N(s)\\right] \\implies H_{n\\to\\theta}(s) \\triangleq \\frac{\\Theta(s)}{N(s)} = -\\frac{I_f s C(s)}{I_y s^2 + I_f s C(s)},$$\n",
    "\n",
    "so the overall system follows:\n",
    "\n",
    "$$\\Theta(s) = H_{w\\to\\theta}(s) W(s) + H_{n\\to\\theta}(s) N(s),$$\n",
    "\n",
    "where $H_{w\\to\\theta}(s)$ is as derived in 2(a).\n",
    "In the absence of a good noise model, we'll assume $n(t)$ has samples drawn from a zero-mean normal distribution.\n",
    "First, we'll look at $|N(i\\omega)|$, the spectrum of $n(t)$."
   ]
  },
  {
   "cell_type": "code",
   "execution_count": null,
   "metadata": {},
   "outputs": [],
   "source": [
    "samples, sigma = 10**5, 2\n",
    "noise = sigma*np.random.randn(samples)\n",
    "plt.figure(figsize=(10, 6))\n",
    "plt.plot(np.linspace(-samples/2, samples/2, samples),\n",
    "         np.abs(np.fft.fftshift(np.fft.fft(noise))))\n",
    "plt.xlabel('DFT index')\n",
    "plt.ylabel('DFT coefficient magnitude')"
   ]
  },
  {
   "cell_type": "markdown",
   "metadata": {},
   "source": [
    "**Question: Why might we call $n(t)$ _additive white Gaussian noise_ (AWGN)?**\n",
    "\n",
    "<span style=\"color: rgb(42, 135, 210)\">\n",
    "    *** TODO ***: Your answer here.\n",
    "</span>"
   ]
  },
  {
   "cell_type": "markdown",
   "metadata": {},
   "source": [
    "Because the disturbance is typically a low-frequency signal (in this case, just a constant with DC content), the noise dominates at high frequencies.\n",
    "Therefore, we would like $H_{n\\to\\theta}(s)$ to act as a lowpass filter.\n",
    "\n",
    "In the cell below, for each set of PID coefficients, compute the frequency response of $H_{n\\to\\theta}(s)$ using [`scipy.signal.bode`](https://docs.scipy.org/doc/scipy/reference/generated/scipy.signal.bode.html#scipy.signal.bode).\n",
    "Use the numerator-denominator polynomial representation of $H_{n\\to\\theta}(s)$.\n",
    "\n",
    "A [Bode magnitude plot](https://en.wikipedia.org/wiki/Bode_plot) is simply the magnitude response plotted on a log-log scale, where the magnitude is in units of decibels:\n",
    "\n",
    "$$20 \\log_{10} |H_{n\\to\\omega}(i\\omega)|$$\n",
    "\n",
    "Bode plots are often more informative when the frequencies a system can be subject to vary by orders of magnitude, as is the case with AWGN.\n",
    "In addition, there are good [straight-line](https://inst.eecs.berkeley.edu/~ee16b/sp18/dis/4A/ans4A.pdf) approximations for drawing Bode plots by hand."
   ]
  },
  {
   "cell_type": "code",
   "execution_count": null,
   "metadata": {},
   "outputs": [],
   "source": [
    "freqs = np.logspace(-3, 2, 1000)  # Frequencies to plot\n",
    "plt.figure(figsize=(10, 6))\n",
    "for k_p, k_i, k_d in k:\n",
    "    # *** TODO ***: Your code here\n",
    "    num = []\n",
    "    den = []\n",
    "    magnitude = []\n",
    "    # *** TODO ***\n",
    "    label = r'$k_p = {}, k_i = {}, k_d = {}$'.format(k_p, k_i, k_d)\n",
    "    plt.semilogx(freqs, magnitude, label=label)\n",
    "plt.xlabel('Frequency [rad/s]')\n",
    "plt.ylabel('Magnitude Response [dB]')\n",
    "plt.legend()"
   ]
  },
  {
   "cell_type": "markdown",
   "metadata": {},
   "source": [
    "**Question: Which coefficients exhibit the best lowpass behavior?**\n",
    "\n",
    "<span style=\"color: rgb(42, 135, 210)\">\n",
    "    *** TODO ***: Your answer here\n",
    "</span>"
   ]
  },
  {
   "cell_type": "markdown",
   "metadata": {},
   "source": [
    "## Q3: Nonlinear Control\n",
    "\n",
    "Linear control like PID may not be suitable in many practical systems:\n",
    "1. The flywheel we analyzed earlier cannot rotate arbitrarily fast. Instead, its speed saturates.\n",
    "1. Some controls, like satellite thrusters, only have discrete states like \"on\" or \"off\", since it may not be cost-effective to run the engine at a fraction of its maximum power.\n",
    "\n",
    "These cases introduce nonlinearities into the overall system, so all of our LTI system analysis is no longer valid.\n",
    "For example, two LTI systems in series can be interchanged with no effect on the overall system, but this is not true with a nonlinear system.\n",
    "Nevertheless, we can try simulating the nonlinear system shown in the figure below anyway.\n",
    "\n",
    "<center>\n",
    "    <img src=\"diagrams/nonlinear.png\" style=\"width: 80%\" />\n",
    "</center>\n",
    "\n",
    "$$f(e) = \\begin{cases}\n",
    "\\tau \\mathrm{sgn}\\{e\\} & |e| \\geq \\delta \\\\\n",
    "0 & |e| < \\delta\n",
    "\\end{cases}$$\n",
    "is a **relay** representing a thruster applying a constant torque $\\tau > 0$ in the direction to reduce the error $e$.\n",
    "The **deadband** is the region $|e| < \\delta$ where no control is applied.\n",
    "Without deadband, the controller would \"chatter\" as $e$ and $f$ rapidly change signs, wearing out the controller.\n",
    "\n",
    "<center>\n",
    "    <img src=\"diagrams/relay-with-deadband.png\" style=\"width: 40%\" />\n",
    "    <center>Relay with deadband.</center>\n",
    "</center>\n",
    "\n",
    "Implement the controller $f$ and plot the system trajectories."
   ]
  },
  {
   "cell_type": "code",
   "execution_count": null,
   "metadata": {},
   "outputs": [],
   "source": [
    "t = np.linspace(0, 2*60*60, 2000)  # In seconds\n",
    "theta_init = np.linspace(-0.5*np.pi, 0.5*np.pi, 5)\n",
    "init_states = np.stack(np.meshgrid(theta_init, [0])).reshape(2, -1).T\n",
    "\n",
    "def f(e, tau=10, delta=0.05*np.pi):\n",
    "    return 0  # *** TODO ***: Your code here.\n",
    "\n",
    "u = lambda t, x: w(t, x) + f(-x[0])\n",
    "\n",
    "plt.figure(figsize=(10, 6))\n",
    "_, phase_ax, theta_ax = simulate_satellite(A_sat, B_sat, u, t, init_states, scale=3, minlength=1.5)\n",
    "theta_ax.plot([t[0]/3600, t[-1]/3600], [0.05*np.pi]*2, linestyle='dashed',\n",
    "              color='tab:orange', label='Deadband')\n",
    "theta_ax.plot([t[0]/3600, t[-1]/3600], [-0.05*np.pi]*2, linestyle='dashed',\n",
    "              color='tab:orange')\n",
    "theta_ax.legend()"
   ]
  },
  {
   "cell_type": "markdown",
   "metadata": {},
   "source": [
    "**Question: Speculate on the stability of the nonlinear system. In particular, what do you notice about the trajectories at steady state?**\n",
    "\n",
    "<span style=\"color: rgb(42, 135, 210)\">\n",
    "    *** TODO ***: Your answer here.\n",
    "</span>"
   ]
  },
  {
   "cell_type": "markdown",
   "metadata": {},
   "source": [
    "## Conclusion\n",
    "\n",
    "In this lab, we've seen that feedback is a very powerful tool for stabilizing systems.\n",
    "In particular, we looked at how linear control can be used to track a reference signal robustly, even with environmental disturbances and sensor noise.\n",
    "We also looked at how a linear control law like PID can be tuned to place the closed-loop poles and achieve a desired response in the time-domain (*e.g.*, an overdamped response).\n",
    "Finally, we took a brief look at nonlinear control, and how it qualitatively differs from linear control."
   ]
  },
  {
   "cell_type": "markdown",
   "metadata": {},
   "source": [
    "## References\n",
    "\n",
    "* [1] Gerlach, O.H. \"Altitude Stabilization and Control of Earth Satellites\", March 1965.\n",
    "* [2] [EE 221A Lecture Notes](http://inst.eecs.berkeley.edu/~ee221a/fa19/)\n",
    "* [3] [EE 222 Lecture Notes](http://inst.eecs.berkeley.edu/~ee222/sp20/)\n",
    "* [4] [EE 120 Notes](https://inst.eecs.berkeley.edu/~ee120/fa19/)\n",
    "* [5] [Feedback Systems](http://www.cds.caltech.edu/~murray/amwiki/index.php/Second_Edition)"
   ]
  }
 ],
 "metadata": {
  "anaconda-cloud": {},
  "kernelspec": {
   "display_name": "Python [Root]",
   "language": "python",
   "name": "Python [Root]"
  },
  "language_info": {
   "codemirror_mode": {
    "name": "ipython",
    "version": 3
   },
   "file_extension": ".py",
   "mimetype": "text/x-python",
   "name": "python",
   "nbconvert_exporter": "python",
   "pygments_lexer": "ipython3",
   "version": "3.5.6"
  }
 },
 "nbformat": 4,
 "nbformat_minor": 2
}
