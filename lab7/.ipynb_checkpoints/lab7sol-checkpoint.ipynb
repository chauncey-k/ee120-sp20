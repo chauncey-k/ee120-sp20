{
 "cells": [
  {
   "cell_type": "markdown",
   "metadata": {},
   "source": [
    "# EE 120 Lab 7: Communication\n",
    "\n",
    "**Signals and Systems at UC Berkeley**\n",
    "\n",
    "v1 - Spring 2020: Jonathan Lee, Galen Kimball, Babak Ayazifar"
   ]
  },
  {
   "cell_type": "markdown",
   "metadata": {},
   "source": [
    "## Background\n",
    "\n",
    "You may not realize it, but you are being bombarded by invisible radio waves all the time.\n",
    "Your phone's wifi module, TV stations, airplane transponders, and even the [International Space Station](https://spaceflight.nasa.gov/station/reference/radio/index.html) spew these radio waves out of antennas and into the atmosphere to communication information.\n",
    "Radio waves are a form of harmless, low-frequency electromagnetic radiation, the same physical phenomenon responsible for visible light and X-rays, and travel at the speed of light.\n",
    "\n",
    "The basic idea of communication is simple: a sender wants to transmit a signal to a receiver over a \"channel,\" a medium like radio.\n",
    "However, the subtlety \n",
    "\n",
    "There are both national and international regulatory bodies (like the FCC in the United States) that dictate [who can use what frequencies](https://en.wikipedia.org/wiki/Radio_spectrum).\n",
    "For example, \n",
    "\n",
    "### Review of Amplitude Modulation\n",
    "\n",
    "### About This Lab\n",
    "\n",
    "In this lab, we'll use your computer's speaker and microphone to transmit binary data.\n",
    "The model of a channel is agnostic to the physics involved, so there's no reason we cannot use audible sounds in the air as our channel!\n",
    "\n",
    "For this lab, you should pair up with another EE 120 student so that one student's laptop will act as the sender, and the other's will act as the receiver.\n",
    "The lab may also be completed individually by sending and receiving from the same laptop.\n",
    "\n",
    "In the event that you run into an issue with the audio, there is an option to complete the lab simulation-only, but it will not be nearly as fun."
   ]
  },
  {
   "cell_type": "markdown",
   "metadata": {},
   "source": [
    "Run all the following starter code.\n",
    "Feel free to ignore these cells.\n",
    "\n",
    "In this lab, we'll be transmitting binary data, since ultimately, all digital data is stored as ones and zeros in your computer's hardware.\n",
    "To send, say, text, you first use an **encoding** like [ASCII](http://www.asciitable.com/) to translate your message into a binary **packet**, a block of bits of arbitrary length.\n",
    "The `text_to_bits` and `bits_to_text` functions simply perform this payload conversion."
   ]
  },
  {
   "cell_type": "code",
   "execution_count": 12,
   "metadata": {},
   "outputs": [],
   "source": [
    "import matplotlib.pyplot as plt\n",
    "import numpy as np\n",
    "\n",
    "# Switch to `simulation = False` if necessary.\n",
    "simulation = True"
   ]
  },
  {
   "cell_type": "code",
   "execution_count": 19,
   "metadata": {},
   "outputs": [],
   "source": [
    "from string import ascii_uppercase, digits\n",
    "\n",
    "alphabet = ascii_uppercase + digits + '.,/?!#$%^&*()[]{}\\'\"<>~:;|\\\\ \\t'\n",
    "bits_per_char = int(np.ceil(np.log2(len(alphabet))))\n",
    "alphabet_table = {char: bin(index)[2:].zfill(bits_per_char)\n",
    "                  for index, char in enumerate(alphabet)}\n",
    "\n",
    "def text_to_bits(text):\n",
    "    \"\"\"\n",
    "    Encode a sequence of alphanumeric characters as a bit sequence.\n",
    "    \n",
    "    Note that we do not use ASCII because we have no need for all\n",
    "    the control characters. Having a 64-character alphabet means\n",
    "    every character can be encoded in six bits instead of eight.\n",
    "    \n",
    "    >>> text_to_bits('ABC')\n",
    "    '000000000001000010'\n",
    "    \"\"\"\n",
    "    return ''.join(map(alphabet_table.get, text.upper()))\n",
    "\n",
    "def bits_to_text(bits):\n",
    "    \"\"\"\n",
    "    Decode a bit sequence as alphanumeric characters.\n",
    "    \n",
    "    >>> bits_to_text('000000000001000010')\n",
    "    'ABC'\n",
    "    \"\"\"\n",
    "    assert len(bits)%bits_per_char == 0, 'Did not receive full characters'\n",
    "    return ''.join(alphabet[int(bits[start : start+bits_per_char], base=2)]\n",
    "                   for start in range(0, len(bits), bits_per_char))"
   ]
  },
  {
   "cell_type": "markdown",
   "metadata": {},
   "source": [
    "## Q1: On-Off Keying (OOK)\n",
    "\n",
    "On-off keying (OOK) is a straightforward communication scheme.\n",
    "Both the sender and receiver agree upon a fixed duration $T$.\n",
    "Every $T$ seconds, the sender either transmits the carrier sinusoid or nothing, depending on the bit to be sent.\n",
    "\n",
    "We can interpret on-off keying as the special case of amplitude modulation with a binary signal. That is, the transmitted signal is\n",
    "\n",
    "$$s(t) = b(t) \\cdot A\\cos{\\omega t},$$\n",
    "\n",
    "where $b(t)$ is a binary signal that takes on a value of 0 or 1 every $T$."
   ]
  },
  {
   "cell_type": "code",
   "execution_count": null,
   "metadata": {},
   "outputs": [],
   "source": [
    "def make_carrier(t, freq=4e3):\n",
    "    return np.cos(2*np.pi*freq*t)\n",
    "\n",
    "def make_bitstream(bits, samples_per_period):\n",
    "    return \n",
    "\n",
    "def encode_carrier(bits, T=0.05, sampling_freq=48e3):\n",
    "    samples_per_period = int(T*sampling_freq)\n",
    "    bitstream = make_bitstream(bits, samples_per_period)\n",
    "    t = np.arange(bitstream.size)/sampling_freq\n",
    "    carrier = make_carrier(t)\n",
    "    return carrier*bitstream"
   ]
  },
  {
   "cell_type": "markdown",
   "metadata": {},
   "source": [
    "Simple enough.\n",
    "However, since packets have finite length, how can we tell when one is being transmitting and when one is not?\n",
    "\n",
    "Instead of sending the raw 0's and 1's from the original data, we'll wrap the data in special bits (called **symbols**) that indicate a packet has started/stopped.\n",
    "The original data will instead be called a **payload**, and there will be a preprocessing step to translate the payload as well.\n",
    "\n",
    "In total, we'll have four types of symbols:\n",
    "* `PACKET-START`: Maps to `111` in `b(t)`, denotes the start of a new packet.\n",
    "* `DATA-ZERO`: Maps to a low-high transition (`01`) in `b(t)`, denotes an actual zero in the payload.\n",
    "* `DATA-ONE`: Maps to a high-low transition (`10`) in `b(t)`, denotes an actual one in the payload.\n",
    "* `PACKET-END`: Maps to `110` in `b(t)`, denote the end of the current packet.\n",
    "\n",
    "Although each payload bit is now sent as two bits in `b(t)`, now we have a *prefix-free encoding*, meaning no symbol's `b(t)` encoding is a prefix of another symbol's.\n",
    "If we look at the raw audio signal"
   ]
  },
  {
   "cell_type": "code",
   "execution_count": null,
   "metadata": {},
   "outputs": [],
   "source": [
    "PACKET_START = '111'\n",
    "PACKET_END = '110'\n",
    "\n",
    "def encode_packet(payload):\n",
    "    \"\"\"\n",
    "    Encode the binary payload as raw bits to be sent on the audio.\n",
    "    \"\"\"\n",
    "    \n",
    "    return PACKET_START + payload_bits + PACKET_END"
   ]
  },
  {
   "cell_type": "markdown",
   "metadata": {},
   "source": [
    "## Q2: Frequency Shift Keying (FSK)"
   ]
  },
  {
   "cell_type": "markdown",
   "metadata": {},
   "source": [
    "## Q3: Binary Phase Shift Keying (BPSK)"
   ]
  },
  {
   "cell_type": "markdown",
   "metadata": {},
   "source": [
    "## Q4: Quadrature Amplitude Modulation (QAM)"
   ]
  },
  {
   "cell_type": "markdown",
   "metadata": {},
   "source": [
    "## Q5 [Optional]: Error-Correcting Codes"
   ]
  },
  {
   "cell_type": "markdown",
   "metadata": {},
   "source": [
    "## Conclusion\n",
    "\n",
    "In this lab, we've learned how information can be encoded in a carrier sinusoid by modulating its amplitude, frequency, or phase.\n",
    "Understanding and using phase turned out to be critical to boosting the rate at which we could send bits.\n",
    "\n",
    "Consider taking EE 194 for HAM (Amateur) Radio or EE 123 to learn more about radio."
   ]
  },
  {
   "cell_type": "markdown",
   "metadata": {},
   "source": [
    "## References"
   ]
  }
 ],
 "metadata": {
  "anaconda-cloud": {},
  "kernelspec": {
   "display_name": "Python [Root]",
   "language": "python",
   "name": "Python [Root]"
  },
  "language_info": {
   "codemirror_mode": {
    "name": "ipython",
    "version": 3
   },
   "file_extension": ".py",
   "mimetype": "text/x-python",
   "name": "python",
   "nbconvert_exporter": "python",
   "pygments_lexer": "ipython3",
   "version": "3.5.6"
  }
 },
 "nbformat": 4,
 "nbformat_minor": 2
}
